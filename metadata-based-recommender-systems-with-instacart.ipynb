{
 "cells": [
  {
   "cell_type": "markdown",
   "metadata": {},
   "source": [
    "# Importando Bibliotecas"
   ]
  },
  {
   "cell_type": "code",
   "execution_count": 1,
   "metadata": {
    "_cell_guid": "6187d6e8-3a64-4802-b5a5-c8dcf828a0b3",
    "_uuid": "0e487b731f49e05e7f81490e36894ade9fdd3f50"
   },
   "outputs": [],
   "source": [
    "import pandas as pd\n",
    "import numpy as np\n",
    "import sys\n",
    "from itertools import combinations, groupby\n",
    "from collections import Counter\n",
    "from IPython.display import display"
   ]
  },
  {
   "cell_type": "markdown",
   "metadata": {},
   "source": [
    "## Carregando zip"
   ]
  },
  {
   "cell_type": "code",
   "execution_count": 2,
   "metadata": {},
   "outputs": [],
   "source": [
    "import zipfile\n",
    "\n",
    "dataset_orders = \"order_products__train.csv\"\n",
    "dataset_products = 'products.csv'\n",
    "dataset_departments = 'departments.csv'\n",
    "dataset_aisles = 'aisles.csv'\n",
    "\n",
    "archive_orders = zipfile.ZipFile(dataset_orders+\".zip\",\"r\")\n",
    "archive_products = zipfile.ZipFile(dataset_products+\".zip\",\"r\")\n",
    "archive_departments = zipfile.ZipFile(dataset_departments+\".zip\",\"r\")\n",
    "archive_aisles = zipfile.ZipFile(dataset_aisles+\".zip\",\"r\")\n",
    "\n",
    "df_order = pd.read_csv(archive_orders.open('order_products__train.csv'))\n",
    "df_product = pd.read_csv(archive_products.open('products.csv'))\n",
    "df_departments = pd.read_csv(archive_departments.open('departments.csv'))\n",
    "df_aisles = pd.read_csv(archive_aisles.open('aisles.csv'))"
   ]
  },
  {
   "cell_type": "markdown",
   "metadata": {},
   "source": [
    "# Metadata-based Recommender System"
   ]
  },
  {
   "cell_type": "markdown",
   "metadata": {},
   "source": [
    "* Metadata-based Recommendation System como descrito em [Medium tutorial](https://medium.com/analytics-vidhya/metadata-based-recommender-systems-in-python-c6aae213b25c). Todo o crédito aos autores do artigo!"
   ]
  },
  {
   "cell_type": "markdown",
   "metadata": {},
   "source": [
    "## Importando bibliotecas necessárias"
   ]
  },
  {
   "cell_type": "code",
   "execution_count": 3,
   "metadata": {},
   "outputs": [],
   "source": [
    "from sklearn.metrics.pairwise import cosine_similarity\n",
    "from sklearn.metrics import mean_squared_error\n",
    "from sklearn.model_selection import train_test_split\n",
    "from sklearn.feature_extraction.text import TfidfVectorizer\n",
    "from sklearn.metrics.pairwise import linear_kernel\n",
    "from ast import literal_eval\n",
    "from sklearn.feature_extraction.text import CountVectorizer"
   ]
  },
  {
   "cell_type": "markdown",
   "metadata": {},
   "source": [
    "* O sistema funciona basicamente transformando os meta dados em vetores, jogando todos num mesmo plano vetorial, comparando seus cossenos e recomendando uma quantidade x de vetores (produtos) mais próximos do vetor analisado. Os metadados são fundamentais para o desempenho de modelos desse tipo e é exatamente neles que podemos inserir dados como quem são os amigos de cada usuário, quantas compras fazem por mês, ticket médio do cliente, tamanho médio do carro de compras etc. Por questões de simplificação nos atemos a passa, em um bando sem dados dos clientes, as informações de departamento e categoria de cada produto no contexto de compras no geral, tendo em vista que esse modelo é meramente ilustrativo e que os produtos das lojas Americanas são bem mais complexos que os aqui exemplificados.\n",
    "\n"
   ]
  },
  {
   "cell_type": "markdown",
   "metadata": {},
   "source": [
    "# Definindo função de recomendação"
   ]
  },
  {
   "cell_type": "code",
   "execution_count": 4,
   "metadata": {},
   "outputs": [],
   "source": [
    "def recommend_products_based_on_metadata(product_input):\n",
    "    \n",
    "    product_index = mapping[product_input]\n",
    "    \n",
    "    similarity_score = list(enumerate(cosine_sim_matrix[product_index]))\n",
    "    similarity_score = sorted(similarity_score, key=lambda x: x[1], reverse=True)\n",
    "    \n",
    "    similarity_score = similarity_score[1:10]\n",
    "    product_indices = [i[0] for i in similarity_score]\n",
    "    \n",
    "    return (df_vec['product_name'].iloc[product_indices])"
   ]
  },
  {
   "cell_type": "code",
   "execution_count": 5,
   "metadata": {},
   "outputs": [
    {
     "data": {
      "text/html": [
       "<div>\n",
       "<style scoped>\n",
       "    .dataframe tbody tr th:only-of-type {\n",
       "        vertical-align: middle;\n",
       "    }\n",
       "\n",
       "    .dataframe tbody tr th {\n",
       "        vertical-align: top;\n",
       "    }\n",
       "\n",
       "    .dataframe thead th {\n",
       "        text-align: right;\n",
       "    }\n",
       "</style>\n",
       "<table border=\"1\" class=\"dataframe\">\n",
       "  <thead>\n",
       "    <tr style=\"text-align: right;\">\n",
       "      <th></th>\n",
       "      <th>order_id</th>\n",
       "      <th>product_id</th>\n",
       "      <th>add_to_cart_order</th>\n",
       "      <th>reordered</th>\n",
       "    </tr>\n",
       "  </thead>\n",
       "  <tbody>\n",
       "    <tr>\n",
       "      <th>0</th>\n",
       "      <td>1</td>\n",
       "      <td>49302</td>\n",
       "      <td>1</td>\n",
       "      <td>1</td>\n",
       "    </tr>\n",
       "    <tr>\n",
       "      <th>1</th>\n",
       "      <td>1</td>\n",
       "      <td>11109</td>\n",
       "      <td>2</td>\n",
       "      <td>1</td>\n",
       "    </tr>\n",
       "  </tbody>\n",
       "</table>\n",
       "</div>"
      ],
      "text/plain": [
       "   order_id  product_id  add_to_cart_order  reordered\n",
       "0         1       49302                  1          1\n",
       "1         1       11109                  2          1"
      ]
     },
     "execution_count": 5,
     "metadata": {},
     "output_type": "execute_result"
    }
   ],
   "source": [
    "df_order.head(2)"
   ]
  },
  {
   "cell_type": "code",
   "execution_count": 6,
   "metadata": {
    "scrolled": true
   },
   "outputs": [
    {
     "data": {
      "text/html": [
       "<div>\n",
       "<style scoped>\n",
       "    .dataframe tbody tr th:only-of-type {\n",
       "        vertical-align: middle;\n",
       "    }\n",
       "\n",
       "    .dataframe tbody tr th {\n",
       "        vertical-align: top;\n",
       "    }\n",
       "\n",
       "    .dataframe thead th {\n",
       "        text-align: right;\n",
       "    }\n",
       "</style>\n",
       "<table border=\"1\" class=\"dataframe\">\n",
       "  <thead>\n",
       "    <tr style=\"text-align: right;\">\n",
       "      <th></th>\n",
       "      <th>product_id</th>\n",
       "      <th>product_name</th>\n",
       "      <th>aisle_id</th>\n",
       "      <th>department_id</th>\n",
       "    </tr>\n",
       "  </thead>\n",
       "  <tbody>\n",
       "    <tr>\n",
       "      <th>0</th>\n",
       "      <td>1</td>\n",
       "      <td>Chocolate Sandwich Cookies</td>\n",
       "      <td>61</td>\n",
       "      <td>19</td>\n",
       "    </tr>\n",
       "    <tr>\n",
       "      <th>1</th>\n",
       "      <td>2</td>\n",
       "      <td>All-Seasons Salt</td>\n",
       "      <td>104</td>\n",
       "      <td>13</td>\n",
       "    </tr>\n",
       "  </tbody>\n",
       "</table>\n",
       "</div>"
      ],
      "text/plain": [
       "   product_id                product_name  aisle_id  department_id\n",
       "0           1  Chocolate Sandwich Cookies        61             19\n",
       "1           2            All-Seasons Salt       104             13"
      ]
     },
     "execution_count": 6,
     "metadata": {},
     "output_type": "execute_result"
    }
   ],
   "source": [
    "df_product.head(2)"
   ]
  },
  {
   "cell_type": "code",
   "execution_count": 7,
   "metadata": {},
   "outputs": [
    {
     "data": {
      "text/html": [
       "<div>\n",
       "<style scoped>\n",
       "    .dataframe tbody tr th:only-of-type {\n",
       "        vertical-align: middle;\n",
       "    }\n",
       "\n",
       "    .dataframe tbody tr th {\n",
       "        vertical-align: top;\n",
       "    }\n",
       "\n",
       "    .dataframe thead th {\n",
       "        text-align: right;\n",
       "    }\n",
       "</style>\n",
       "<table border=\"1\" class=\"dataframe\">\n",
       "  <thead>\n",
       "    <tr style=\"text-align: right;\">\n",
       "      <th></th>\n",
       "      <th>department_id</th>\n",
       "      <th>department</th>\n",
       "    </tr>\n",
       "  </thead>\n",
       "  <tbody>\n",
       "    <tr>\n",
       "      <th>0</th>\n",
       "      <td>1</td>\n",
       "      <td>frozen</td>\n",
       "    </tr>\n",
       "    <tr>\n",
       "      <th>1</th>\n",
       "      <td>2</td>\n",
       "      <td>other</td>\n",
       "    </tr>\n",
       "  </tbody>\n",
       "</table>\n",
       "</div>"
      ],
      "text/plain": [
       "   department_id department\n",
       "0              1     frozen\n",
       "1              2      other"
      ]
     },
     "execution_count": 7,
     "metadata": {},
     "output_type": "execute_result"
    }
   ],
   "source": [
    "df_departments.head(2)"
   ]
  },
  {
   "cell_type": "code",
   "execution_count": 8,
   "metadata": {},
   "outputs": [
    {
     "data": {
      "text/html": [
       "<div>\n",
       "<style scoped>\n",
       "    .dataframe tbody tr th:only-of-type {\n",
       "        vertical-align: middle;\n",
       "    }\n",
       "\n",
       "    .dataframe tbody tr th {\n",
       "        vertical-align: top;\n",
       "    }\n",
       "\n",
       "    .dataframe thead th {\n",
       "        text-align: right;\n",
       "    }\n",
       "</style>\n",
       "<table border=\"1\" class=\"dataframe\">\n",
       "  <thead>\n",
       "    <tr style=\"text-align: right;\">\n",
       "      <th></th>\n",
       "      <th>aisle_id</th>\n",
       "      <th>aisle</th>\n",
       "    </tr>\n",
       "  </thead>\n",
       "  <tbody>\n",
       "    <tr>\n",
       "      <th>0</th>\n",
       "      <td>1</td>\n",
       "      <td>prepared soups salads</td>\n",
       "    </tr>\n",
       "    <tr>\n",
       "      <th>1</th>\n",
       "      <td>2</td>\n",
       "      <td>specialty cheeses</td>\n",
       "    </tr>\n",
       "  </tbody>\n",
       "</table>\n",
       "</div>"
      ],
      "text/plain": [
       "   aisle_id                  aisle\n",
       "0         1  prepared soups salads\n",
       "1         2      specialty cheeses"
      ]
     },
     "execution_count": 8,
     "metadata": {},
     "output_type": "execute_result"
    }
   ],
   "source": [
    "df_aisles.head(2)"
   ]
  },
  {
   "cell_type": "markdown",
   "metadata": {},
   "source": [
    "# Cria tabela compras"
   ]
  },
  {
   "cell_type": "code",
   "execution_count": 9,
   "metadata": {},
   "outputs": [],
   "source": [
    "df = pd.merge(pd.merge(pd.merge(df_order, \n",
    "                                          df_product, \n",
    "                                          on=\"product_id\", how = 'inner'), \n",
    "                                   df_aisles, \n",
    "                                   on=\"aisle_id\", how='inner'),\n",
    "                      df_departments, \n",
    "                      on=\"department_id\", how = 'inner')"
   ]
  },
  {
   "cell_type": "code",
   "execution_count": 10,
   "metadata": {
    "scrolled": true
   },
   "outputs": [
    {
     "data": {
      "text/html": [
       "<div>\n",
       "<style scoped>\n",
       "    .dataframe tbody tr th:only-of-type {\n",
       "        vertical-align: middle;\n",
       "    }\n",
       "\n",
       "    .dataframe tbody tr th {\n",
       "        vertical-align: top;\n",
       "    }\n",
       "\n",
       "    .dataframe thead th {\n",
       "        text-align: right;\n",
       "    }\n",
       "</style>\n",
       "<table border=\"1\" class=\"dataframe\">\n",
       "  <thead>\n",
       "    <tr style=\"text-align: right;\">\n",
       "      <th></th>\n",
       "      <th>order_id</th>\n",
       "      <th>product_id</th>\n",
       "      <th>add_to_cart_order</th>\n",
       "      <th>reordered</th>\n",
       "      <th>product_name</th>\n",
       "      <th>aisle_id</th>\n",
       "      <th>department_id</th>\n",
       "      <th>aisle</th>\n",
       "      <th>department</th>\n",
       "    </tr>\n",
       "  </thead>\n",
       "  <tbody>\n",
       "    <tr>\n",
       "      <th>0</th>\n",
       "      <td>1</td>\n",
       "      <td>49302</td>\n",
       "      <td>1</td>\n",
       "      <td>1</td>\n",
       "      <td>Bulgarian Yogurt</td>\n",
       "      <td>120</td>\n",
       "      <td>16</td>\n",
       "      <td>yogurt</td>\n",
       "      <td>dairy eggs</td>\n",
       "    </tr>\n",
       "    <tr>\n",
       "      <th>1</th>\n",
       "      <td>816049</td>\n",
       "      <td>49302</td>\n",
       "      <td>7</td>\n",
       "      <td>1</td>\n",
       "      <td>Bulgarian Yogurt</td>\n",
       "      <td>120</td>\n",
       "      <td>16</td>\n",
       "      <td>yogurt</td>\n",
       "      <td>dairy eggs</td>\n",
       "    </tr>\n",
       "    <tr>\n",
       "      <th>2</th>\n",
       "      <td>1242203</td>\n",
       "      <td>49302</td>\n",
       "      <td>1</td>\n",
       "      <td>1</td>\n",
       "      <td>Bulgarian Yogurt</td>\n",
       "      <td>120</td>\n",
       "      <td>16</td>\n",
       "      <td>yogurt</td>\n",
       "      <td>dairy eggs</td>\n",
       "    </tr>\n",
       "    <tr>\n",
       "      <th>3</th>\n",
       "      <td>1383349</td>\n",
       "      <td>49302</td>\n",
       "      <td>11</td>\n",
       "      <td>1</td>\n",
       "      <td>Bulgarian Yogurt</td>\n",
       "      <td>120</td>\n",
       "      <td>16</td>\n",
       "      <td>yogurt</td>\n",
       "      <td>dairy eggs</td>\n",
       "    </tr>\n",
       "    <tr>\n",
       "      <th>4</th>\n",
       "      <td>1787378</td>\n",
       "      <td>49302</td>\n",
       "      <td>8</td>\n",
       "      <td>0</td>\n",
       "      <td>Bulgarian Yogurt</td>\n",
       "      <td>120</td>\n",
       "      <td>16</td>\n",
       "      <td>yogurt</td>\n",
       "      <td>dairy eggs</td>\n",
       "    </tr>\n",
       "  </tbody>\n",
       "</table>\n",
       "</div>"
      ],
      "text/plain": [
       "   order_id  product_id  add_to_cart_order  reordered      product_name  \\\n",
       "0         1       49302                  1          1  Bulgarian Yogurt   \n",
       "1    816049       49302                  7          1  Bulgarian Yogurt   \n",
       "2   1242203       49302                  1          1  Bulgarian Yogurt   \n",
       "3   1383349       49302                 11          1  Bulgarian Yogurt   \n",
       "4   1787378       49302                  8          0  Bulgarian Yogurt   \n",
       "\n",
       "   aisle_id  department_id   aisle  department  \n",
       "0       120             16  yogurt  dairy eggs  \n",
       "1       120             16  yogurt  dairy eggs  \n",
       "2       120             16  yogurt  dairy eggs  \n",
       "3       120             16  yogurt  dairy eggs  \n",
       "4       120             16  yogurt  dairy eggs  "
      ]
     },
     "execution_count": 10,
     "metadata": {},
     "output_type": "execute_result"
    }
   ],
   "source": [
    "df.head()"
   ]
  },
  {
   "cell_type": "markdown",
   "metadata": {},
   "source": [
    "# Filtrando departamentos de interesse!"
   ]
  },
  {
   "cell_type": "code",
   "execution_count": 11,
   "metadata": {},
   "outputs": [
    {
     "data": {
      "text/plain": [
       "0              frozen\n",
       "1               other\n",
       "2              bakery\n",
       "3             produce\n",
       "4             alcohol\n",
       "5       international\n",
       "6           beverages\n",
       "7                pets\n",
       "8     dry goods pasta\n",
       "9                bulk\n",
       "10      personal care\n",
       "11       meat seafood\n",
       "12             pantry\n",
       "13          breakfast\n",
       "14       canned goods\n",
       "15         dairy eggs\n",
       "16          household\n",
       "17             babies\n",
       "18             snacks\n",
       "19               deli\n",
       "20            missing\n",
       "Name: department, dtype: object"
      ]
     },
     "execution_count": 11,
     "metadata": {},
     "output_type": "execute_result"
    }
   ],
   "source": [
    "df_departments.department"
   ]
  },
  {
   "cell_type": "code",
   "execution_count": 12,
   "metadata": {},
   "outputs": [],
   "source": [
    "df_filtered_departments = df_departments[df_departments.department.isin(['bakery','alcool','babies','snacks','missing','personal care','pets'])]"
   ]
  },
  {
   "cell_type": "code",
   "execution_count": 13,
   "metadata": {},
   "outputs": [],
   "source": [
    "df = df[df.department.isin(df_filtered_departments.department)]"
   ]
  },
  {
   "cell_type": "code",
   "execution_count": 14,
   "metadata": {},
   "outputs": [
    {
     "data": {
      "text/html": [
       "<div>\n",
       "<style scoped>\n",
       "    .dataframe tbody tr th:only-of-type {\n",
       "        vertical-align: middle;\n",
       "    }\n",
       "\n",
       "    .dataframe tbody tr th {\n",
       "        vertical-align: top;\n",
       "    }\n",
       "\n",
       "    .dataframe thead th {\n",
       "        text-align: right;\n",
       "    }\n",
       "</style>\n",
       "<table border=\"1\" class=\"dataframe\">\n",
       "  <thead>\n",
       "    <tr style=\"text-align: right;\">\n",
       "      <th></th>\n",
       "      <th>order_id</th>\n",
       "      <th>product_id</th>\n",
       "      <th>add_to_cart_order</th>\n",
       "      <th>reordered</th>\n",
       "      <th>product_name</th>\n",
       "      <th>aisle_id</th>\n",
       "      <th>department_id</th>\n",
       "      <th>aisle</th>\n",
       "      <th>department</th>\n",
       "    </tr>\n",
       "  </thead>\n",
       "  <tbody>\n",
       "    <tr>\n",
       "      <th>1241309</th>\n",
       "      <td>3070525</td>\n",
       "      <td>48647</td>\n",
       "      <td>2</td>\n",
       "      <td>1</td>\n",
       "      <td>Mini Chocolate Croissant</td>\n",
       "      <td>93</td>\n",
       "      <td>3</td>\n",
       "      <td>breakfast bakery</td>\n",
       "      <td>bakery</td>\n",
       "    </tr>\n",
       "    <tr>\n",
       "      <th>946184</th>\n",
       "      <td>1522726</td>\n",
       "      <td>13740</td>\n",
       "      <td>2</td>\n",
       "      <td>0</td>\n",
       "      <td>Organic Summer Strawberry Bunny Fruit Snacks</td>\n",
       "      <td>50</td>\n",
       "      <td>19</td>\n",
       "      <td>fruit vegetable snacks</td>\n",
       "      <td>snacks</td>\n",
       "    </tr>\n",
       "    <tr>\n",
       "      <th>1247048</th>\n",
       "      <td>1000578</td>\n",
       "      <td>36412</td>\n",
       "      <td>1</td>\n",
       "      <td>1</td>\n",
       "      <td>Pure Castile Peppermint Soap</td>\n",
       "      <td>25</td>\n",
       "      <td>11</td>\n",
       "      <td>soap</td>\n",
       "      <td>personal care</td>\n",
       "    </tr>\n",
       "    <tr>\n",
       "      <th>881213</th>\n",
       "      <td>2074086</td>\n",
       "      <td>43234</td>\n",
       "      <td>4</td>\n",
       "      <td>1</td>\n",
       "      <td>Parmesan Cheese Crisps</td>\n",
       "      <td>107</td>\n",
       "      <td>19</td>\n",
       "      <td>chips pretzels</td>\n",
       "      <td>snacks</td>\n",
       "    </tr>\n",
       "    <tr>\n",
       "      <th>859463</th>\n",
       "      <td>1273712</td>\n",
       "      <td>43530</td>\n",
       "      <td>3</td>\n",
       "      <td>0</td>\n",
       "      <td>Caramel Corn Rice Cakes</td>\n",
       "      <td>78</td>\n",
       "      <td>19</td>\n",
       "      <td>crackers</td>\n",
       "      <td>snacks</td>\n",
       "    </tr>\n",
       "  </tbody>\n",
       "</table>\n",
       "</div>"
      ],
      "text/plain": [
       "         order_id  product_id  add_to_cart_order  reordered  \\\n",
       "1241309   3070525       48647                  2          1   \n",
       "946184    1522726       13740                  2          0   \n",
       "1247048   1000578       36412                  1          1   \n",
       "881213    2074086       43234                  4          1   \n",
       "859463    1273712       43530                  3          0   \n",
       "\n",
       "                                         product_name  aisle_id  \\\n",
       "1241309                      Mini Chocolate Croissant        93   \n",
       "946184   Organic Summer Strawberry Bunny Fruit Snacks        50   \n",
       "1247048                  Pure Castile Peppermint Soap        25   \n",
       "881213                         Parmesan Cheese Crisps       107   \n",
       "859463                        Caramel Corn Rice Cakes        78   \n",
       "\n",
       "         department_id                   aisle     department  \n",
       "1241309              3        breakfast bakery         bakery  \n",
       "946184              19  fruit vegetable snacks         snacks  \n",
       "1247048             11                    soap  personal care  \n",
       "881213              19          chips pretzels         snacks  \n",
       "859463              19                crackers         snacks  "
      ]
     },
     "execution_count": 14,
     "metadata": {},
     "output_type": "execute_result"
    }
   ],
   "source": [
    "df.sample(5)"
   ]
  },
  {
   "cell_type": "markdown",
   "metadata": {},
   "source": [
    "# Criando dataframe com metadados"
   ]
  },
  {
   "cell_type": "code",
   "execution_count": 15,
   "metadata": {},
   "outputs": [],
   "source": [
    "df_meta = df[['product_id','department','aisle','product_name']].groupby('product_id', as_index=False).agg(set)"
   ]
  },
  {
   "cell_type": "code",
   "execution_count": 16,
   "metadata": {},
   "outputs": [
    {
     "data": {
      "text/html": [
       "<div>\n",
       "<style scoped>\n",
       "    .dataframe tbody tr th:only-of-type {\n",
       "        vertical-align: middle;\n",
       "    }\n",
       "\n",
       "    .dataframe tbody tr th {\n",
       "        vertical-align: top;\n",
       "    }\n",
       "\n",
       "    .dataframe thead th {\n",
       "        text-align: right;\n",
       "    }\n",
       "</style>\n",
       "<table border=\"1\" class=\"dataframe\">\n",
       "  <thead>\n",
       "    <tr style=\"text-align: right;\">\n",
       "      <th></th>\n",
       "      <th>product_id</th>\n",
       "      <th>department</th>\n",
       "      <th>aisle</th>\n",
       "      <th>product_name</th>\n",
       "    </tr>\n",
       "  </thead>\n",
       "  <tbody>\n",
       "    <tr>\n",
       "      <th>0</th>\n",
       "      <td>1</td>\n",
       "      <td>{snacks}</td>\n",
       "      <td>{cookies cakes}</td>\n",
       "      <td>{Chocolate Sandwich Cookies}</td>\n",
       "    </tr>\n",
       "    <tr>\n",
       "      <th>1</th>\n",
       "      <td>13</td>\n",
       "      <td>{personal care}</td>\n",
       "      <td>{cold flu allergy}</td>\n",
       "      <td>{Saline Nasal Mist}</td>\n",
       "    </tr>\n",
       "  </tbody>\n",
       "</table>\n",
       "</div>"
      ],
      "text/plain": [
       "   product_id       department               aisle  \\\n",
       "0           1         {snacks}     {cookies cakes}   \n",
       "1          13  {personal care}  {cold flu allergy}   \n",
       "\n",
       "                   product_name  \n",
       "0  {Chocolate Sandwich Cookies}  \n",
       "1           {Saline Nasal Mist}  "
      ]
     },
     "execution_count": 16,
     "metadata": {},
     "output_type": "execute_result"
    }
   ],
   "source": [
    "df_meta.head(2)"
   ]
  },
  {
   "cell_type": "code",
   "execution_count": 17,
   "metadata": {},
   "outputs": [],
   "source": [
    "df_meta['aisle'] = df_meta['aisle'].apply(lambda x: [i.replace(' ','') for i in x])\n",
    "df_meta['department'] = df_meta['department'].apply(lambda x: [i.replace(' ','') for i in x])"
   ]
  },
  {
   "cell_type": "code",
   "execution_count": 18,
   "metadata": {},
   "outputs": [
    {
     "data": {
      "text/plain": [
       "Index(['product_id', 'department', 'aisle', 'product_name'], dtype='object')"
      ]
     },
     "execution_count": 18,
     "metadata": {},
     "output_type": "execute_result"
    }
   ],
   "source": [
    "df_meta.columns"
   ]
  },
  {
   "cell_type": "markdown",
   "metadata": {},
   "source": [
    "# Inserindo os metadados"
   ]
  },
  {
   "cell_type": "code",
   "execution_count": 19,
   "metadata": {},
   "outputs": [
    {
     "data": {
      "text/html": [
       "<div>\n",
       "<style scoped>\n",
       "    .dataframe tbody tr th:only-of-type {\n",
       "        vertical-align: middle;\n",
       "    }\n",
       "\n",
       "    .dataframe tbody tr th {\n",
       "        vertical-align: top;\n",
       "    }\n",
       "\n",
       "    .dataframe thead th {\n",
       "        text-align: right;\n",
       "    }\n",
       "</style>\n",
       "<table border=\"1\" class=\"dataframe\">\n",
       "  <thead>\n",
       "    <tr style=\"text-align: right;\">\n",
       "      <th></th>\n",
       "      <th>product_id</th>\n",
       "      <th>department</th>\n",
       "      <th>aisle</th>\n",
       "      <th>product_name</th>\n",
       "      <th>metadata</th>\n",
       "    </tr>\n",
       "  </thead>\n",
       "  <tbody>\n",
       "    <tr>\n",
       "      <th>0</th>\n",
       "      <td>1</td>\n",
       "      <td>[snacks]</td>\n",
       "      <td>[cookiescakes]</td>\n",
       "      <td>{Chocolate Sandwich Cookies}</td>\n",
       "      <td>cookiescakes snacks</td>\n",
       "    </tr>\n",
       "    <tr>\n",
       "      <th>1</th>\n",
       "      <td>13</td>\n",
       "      <td>[personalcare]</td>\n",
       "      <td>[coldfluallergy]</td>\n",
       "      <td>{Saline Nasal Mist}</td>\n",
       "      <td>coldfluallergy personalcare</td>\n",
       "    </tr>\n",
       "    <tr>\n",
       "      <th>2</th>\n",
       "      <td>15</td>\n",
       "      <td>[babies]</td>\n",
       "      <td>[diaperswipes]</td>\n",
       "      <td>{Overnight Diapers Size 6}</td>\n",
       "      <td>diaperswipes babies</td>\n",
       "    </tr>\n",
       "    <tr>\n",
       "      <th>3</th>\n",
       "      <td>16</td>\n",
       "      <td>[snacks]</td>\n",
       "      <td>[icecreamtoppings]</td>\n",
       "      <td>{Mint Chocolate Flavored Syrup}</td>\n",
       "      <td>icecreamtoppings snacks</td>\n",
       "    </tr>\n",
       "    <tr>\n",
       "      <th>4</th>\n",
       "      <td>21</td>\n",
       "      <td>[pets]</td>\n",
       "      <td>[dogfoodcare]</td>\n",
       "      <td>{Small &amp; Medium Dental Dog Treats}</td>\n",
       "      <td>dogfoodcare pets</td>\n",
       "    </tr>\n",
       "    <tr>\n",
       "      <th>...</th>\n",
       "      <td>...</td>\n",
       "      <td>...</td>\n",
       "      <td>...</td>\n",
       "      <td>...</td>\n",
       "      <td>...</td>\n",
       "    </tr>\n",
       "    <tr>\n",
       "      <th>13171</th>\n",
       "      <td>49671</td>\n",
       "      <td>[snacks]</td>\n",
       "      <td>[candychocolate]</td>\n",
       "      <td>{Milk Chocolate Drops}</td>\n",
       "      <td>candychocolate snacks</td>\n",
       "    </tr>\n",
       "    <tr>\n",
       "      <th>13172</th>\n",
       "      <td>49679</td>\n",
       "      <td>[snacks]</td>\n",
       "      <td>[cookiescakes]</td>\n",
       "      <td>{Famous Chocolate Wafers}</td>\n",
       "      <td>cookiescakes snacks</td>\n",
       "    </tr>\n",
       "    <tr>\n",
       "      <th>13173</th>\n",
       "      <td>49686</td>\n",
       "      <td>[bakery]</td>\n",
       "      <td>[bread]</td>\n",
       "      <td>{Artisan Baguette}</td>\n",
       "      <td>bread bakery</td>\n",
       "    </tr>\n",
       "    <tr>\n",
       "      <th>13174</th>\n",
       "      <td>49687</td>\n",
       "      <td>[pets]</td>\n",
       "      <td>[catfoodcare]</td>\n",
       "      <td>{Smartblend Healthy Metabolism Dry Cat Food}</td>\n",
       "      <td>catfoodcare pets</td>\n",
       "    </tr>\n",
       "    <tr>\n",
       "      <th>13175</th>\n",
       "      <td>49688</td>\n",
       "      <td>[personalcare]</td>\n",
       "      <td>[facialcare]</td>\n",
       "      <td>{Fresh Foaming Cleanser}</td>\n",
       "      <td>facialcare personalcare</td>\n",
       "    </tr>\n",
       "  </tbody>\n",
       "</table>\n",
       "<p>13176 rows × 5 columns</p>\n",
       "</div>"
      ],
      "text/plain": [
       "       product_id      department               aisle  \\\n",
       "0               1        [snacks]      [cookiescakes]   \n",
       "1              13  [personalcare]    [coldfluallergy]   \n",
       "2              15        [babies]      [diaperswipes]   \n",
       "3              16        [snacks]  [icecreamtoppings]   \n",
       "4              21          [pets]       [dogfoodcare]   \n",
       "...           ...             ...                 ...   \n",
       "13171       49671        [snacks]    [candychocolate]   \n",
       "13172       49679        [snacks]      [cookiescakes]   \n",
       "13173       49686        [bakery]             [bread]   \n",
       "13174       49687          [pets]       [catfoodcare]   \n",
       "13175       49688  [personalcare]        [facialcare]   \n",
       "\n",
       "                                       product_name  \\\n",
       "0                      {Chocolate Sandwich Cookies}   \n",
       "1                               {Saline Nasal Mist}   \n",
       "2                        {Overnight Diapers Size 6}   \n",
       "3                   {Mint Chocolate Flavored Syrup}   \n",
       "4                {Small & Medium Dental Dog Treats}   \n",
       "...                                             ...   \n",
       "13171                        {Milk Chocolate Drops}   \n",
       "13172                     {Famous Chocolate Wafers}   \n",
       "13173                            {Artisan Baguette}   \n",
       "13174  {Smartblend Healthy Metabolism Dry Cat Food}   \n",
       "13175                      {Fresh Foaming Cleanser}   \n",
       "\n",
       "                           metadata  \n",
       "0               cookiescakes snacks  \n",
       "1       coldfluallergy personalcare  \n",
       "2               diaperswipes babies  \n",
       "3           icecreamtoppings snacks  \n",
       "4                  dogfoodcare pets  \n",
       "...                             ...  \n",
       "13171         candychocolate snacks  \n",
       "13172           cookiescakes snacks  \n",
       "13173                  bread bakery  \n",
       "13174              catfoodcare pets  \n",
       "13175       facialcare personalcare  \n",
       "\n",
       "[13176 rows x 5 columns]"
      ]
     },
     "execution_count": 19,
     "metadata": {},
     "output_type": "execute_result"
    }
   ],
   "source": [
    "df_meta['metadata'] = df_meta.apply(lambda x : ' ' + ' '.join(x['aisle']) + ' ' + ' '.join(x['department']), axis = 1)\n",
    "df_meta"
   ]
  },
  {
   "cell_type": "code",
   "execution_count": 20,
   "metadata": {},
   "outputs": [],
   "source": [
    "df_vec = df_meta   #.sample(10000), caso estrapole a memória!\n",
    "df_produtos_previstos = pd.merge(df_vec[['product_id']], df_product[['product_id','product_name']], on='product_id', how='inner')\n",
    "\n",
    "count_vec = CountVectorizer(stop_words='english')\n",
    "count_vec_matrix = count_vec.fit_transform(df_vec['metadata'])\n",
    "cosine_sim_matrix = cosine_similarity(count_vec_matrix, count_vec_matrix)\n",
    "mapping = pd.Series(df_produtos_previstos.index, index = df_produtos_previstos['product_name'])"
   ]
  },
  {
   "cell_type": "markdown",
   "metadata": {},
   "source": [
    "# Garando recomendação:"
   ]
  },
  {
   "cell_type": "code",
   "execution_count": 21,
   "metadata": {
    "scrolled": true
   },
   "outputs": [
    {
     "data": {
      "text/plain": [
       "13                         {24/7 Performance Cat Litter}\n",
       "78     {Prime Filets Chicken & Tuna Dinner in Gravy C...\n",
       "94     {Complete Health Deboned Chicken, Chicken Meal...\n",
       "137    {Proactive Health Mature Adult Hairball Care C...\n",
       "146              {Tasty Treasures Cat Food Variety Pack}\n",
       "181                 {Chicken Liver Paté Canned Cat Food}\n",
       "218               {Cat Treats Hair Ball Control Chicken}\n",
       "237               {Cat Food, Premium, Adult Cat Formula}\n",
       "267               {Salmon and Tuna Formula Dry Cat Food}\n",
       "Name: product_name, dtype: object"
      ]
     },
     "execution_count": 21,
     "metadata": {},
     "output_type": "execute_result"
    }
   ],
   "source": [
    "recommend_products_based_on_metadata('Cat Food, Premium, Adult Cat Formula') #lista produtos recomendados, dado que o produto passado foi comprado!"
   ]
  },
  {
   "cell_type": "markdown",
   "metadata": {},
   "source": [
    "## Produtos que podem ser passados para a função acima:"
   ]
  },
  {
   "cell_type": "code",
   "execution_count": 22,
   "metadata": {
    "scrolled": false
   },
   "outputs": [
    {
     "data": {
      "text/html": [
       "<div>\n",
       "<style scoped>\n",
       "    .dataframe tbody tr th:only-of-type {\n",
       "        vertical-align: middle;\n",
       "    }\n",
       "\n",
       "    .dataframe tbody tr th {\n",
       "        vertical-align: top;\n",
       "    }\n",
       "\n",
       "    .dataframe thead th {\n",
       "        text-align: right;\n",
       "    }\n",
       "</style>\n",
       "<table border=\"1\" class=\"dataframe\">\n",
       "  <thead>\n",
       "    <tr style=\"text-align: right;\">\n",
       "      <th></th>\n",
       "      <th>product_id</th>\n",
       "      <th>product_name</th>\n",
       "    </tr>\n",
       "  </thead>\n",
       "  <tbody>\n",
       "    <tr>\n",
       "      <th>3823</th>\n",
       "      <td>14682</td>\n",
       "      <td>Whole Grain Bread</td>\n",
       "    </tr>\n",
       "    <tr>\n",
       "      <th>8000</th>\n",
       "      <td>30437</td>\n",
       "      <td>Lemongrass Pure Essential Oil</td>\n",
       "    </tr>\n",
       "    <tr>\n",
       "      <th>7806</th>\n",
       "      <td>29718</td>\n",
       "      <td>Variety Snaps Little Bites with Beef Chicken L...</td>\n",
       "    </tr>\n",
       "    <tr>\n",
       "      <th>3918</th>\n",
       "      <td>15063</td>\n",
       "      <td>Organic Cashew Nondairy Vanilla Yogurt</td>\n",
       "    </tr>\n",
       "    <tr>\n",
       "      <th>5772</th>\n",
       "      <td>21934</td>\n",
       "      <td>Foaming Body Wash - Cucumber Mint</td>\n",
       "    </tr>\n",
       "    <tr>\n",
       "      <th>10543</th>\n",
       "      <td>39850</td>\n",
       "      <td>Sesame Street Organic Original Cruchin' Cracker</td>\n",
       "    </tr>\n",
       "    <tr>\n",
       "      <th>5121</th>\n",
       "      <td>19564</td>\n",
       "      <td>Invisible Solid Anti-Perspirant Deodorant, Sho...</td>\n",
       "    </tr>\n",
       "    <tr>\n",
       "      <th>4195</th>\n",
       "      <td>16196</td>\n",
       "      <td>Shower Gel, Peaceful Patchouli</td>\n",
       "    </tr>\n",
       "    <tr>\n",
       "      <th>949</th>\n",
       "      <td>3700</td>\n",
       "      <td>Organic Coconut Assam Whole Leaf Tea</td>\n",
       "    </tr>\n",
       "    <tr>\n",
       "      <th>5285</th>\n",
       "      <td>20208</td>\n",
       "      <td>Savory Chicken in Gravy Cat Food</td>\n",
       "    </tr>\n",
       "    <tr>\n",
       "      <th>10616</th>\n",
       "      <td>40129</td>\n",
       "      <td>Dentastix® Small Original Dog Treats</td>\n",
       "    </tr>\n",
       "    <tr>\n",
       "      <th>1616</th>\n",
       "      <td>6333</td>\n",
       "      <td>Organic Regular Cotton Tampons</td>\n",
       "    </tr>\n",
       "    <tr>\n",
       "      <th>2343</th>\n",
       "      <td>9012</td>\n",
       "      <td>Gluten Free Kale Sourdough</td>\n",
       "    </tr>\n",
       "    <tr>\n",
       "      <th>1032</th>\n",
       "      <td>3997</td>\n",
       "      <td>Simply Sea Recipe Dry Dog Food</td>\n",
       "    </tr>\n",
       "    <tr>\n",
       "      <th>7740</th>\n",
       "      <td>29478</td>\n",
       "      <td>Fudge Graham Nutrition Bar</td>\n",
       "    </tr>\n",
       "  </tbody>\n",
       "</table>\n",
       "</div>"
      ],
      "text/plain": [
       "       product_id                                       product_name\n",
       "3823        14682                                  Whole Grain Bread\n",
       "8000        30437                      Lemongrass Pure Essential Oil\n",
       "7806        29718  Variety Snaps Little Bites with Beef Chicken L...\n",
       "3918        15063             Organic Cashew Nondairy Vanilla Yogurt\n",
       "5772        21934                  Foaming Body Wash - Cucumber Mint\n",
       "10543       39850    Sesame Street Organic Original Cruchin' Cracker\n",
       "5121        19564  Invisible Solid Anti-Perspirant Deodorant, Sho...\n",
       "4195        16196                     Shower Gel, Peaceful Patchouli\n",
       "949          3700               Organic Coconut Assam Whole Leaf Tea\n",
       "5285        20208                   Savory Chicken in Gravy Cat Food\n",
       "10616       40129               Dentastix® Small Original Dog Treats\n",
       "1616         6333                     Organic Regular Cotton Tampons\n",
       "2343         9012                         Gluten Free Kale Sourdough\n",
       "1032         3997                     Simply Sea Recipe Dry Dog Food\n",
       "7740        29478                         Fudge Graham Nutrition Bar"
      ]
     },
     "execution_count": 22,
     "metadata": {},
     "output_type": "execute_result"
    }
   ],
   "source": [
    "df_produtos_previstos.sample(15) #Mostra 15 produtos aleatórios para testar o sistema de recomendação!"
   ]
  }
 ],
 "metadata": {
  "kernelspec": {
   "display_name": "Python 3",
   "language": "python",
   "name": "python3"
  },
  "language_info": {
   "codemirror_mode": {
    "name": "ipython",
    "version": 3
   },
   "file_extension": ".py",
   "mimetype": "text/x-python",
   "name": "python",
   "nbconvert_exporter": "python",
   "pygments_lexer": "ipython3",
   "version": "3.7.7"
  }
 },
 "nbformat": 4,
 "nbformat_minor": 4
}
